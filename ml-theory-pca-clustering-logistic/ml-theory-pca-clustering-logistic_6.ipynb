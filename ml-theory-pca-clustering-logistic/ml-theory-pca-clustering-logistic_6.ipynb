{
 "cells": [
  {
   "cell_type": "markdown",
   "metadata": {},
   "source": [
    "# FOML_ASSIGNMENT_4"
   ]
  },
  {
   "cell_type": "markdown",
   "metadata": {},
   "source": [
    "    Name: ANTALA AVIRAJ (CS24MTECH14011)"
   ]
  },
  {
   "cell_type": "markdown",
   "metadata": {},
   "source": [
    "###    Question 6)  Kaggle - Taxi Fare Price Prediction:"
   ]
  },
  {
   "cell_type": "code",
   "execution_count": null,
   "metadata": {
    "trusted": true
   },
   "outputs": [],
   "source": [
    "import pandas as pd\n",
    "import numpy as np\n",
    "from sklearn.model_selection import train_test_split\n",
    "from sklearn.metrics import mean_squared_error\n",
    "from xgboost import XGBRegressor\n",
    "from sklearn.linear_model import LinearRegression\n",
    "from sklearn.tree import DecisionTreeRegressor\n",
    "from sklearn.ensemble import RandomForestRegressor, GradientBoostingRegressor\n",
    "from IPython.display import FileLink"
   ]
  },
  {
   "cell_type": "code",
   "execution_count": null,
   "metadata": {
    "trusted": true
   },
   "outputs": [],
   "source": [
    "# Random seed for reproducibility\n",
    "SEED = 123\n",
    "np.random.seed(SEED)\n",
    "\n",
    "# Configuration for sampling and data types\n",
    "CONFIG = {\n",
    "    \"sample_rate\": 0.1,\n",
    "    \"column_types\": {\n",
    "        \"fare_amount\": \"float32\",\n",
    "        \"pickup_longitude\": \"float32\",\n",
    "        \"pickup_latitude\": \"float32\",\n",
    "        \"dropoff_longitude\": \"float32\",\n",
    "        \"dropoff_latitude\": \"float32\",\n",
    "        \"passenger_count\": \"float32\",\n",
    "    },\n",
    "}\n",
    "\n",
    "# Paths for dataset files\n",
    "TRAIN_PATH = \"/kaggle/input/new-york-city-taxi-fare-prediction/train.csv\"\n",
    "TEST_PATH = \"/kaggle/input/new-york-city-taxi-fare-prediction/test.csv\"\n",
    "\n",
    "# Sampling logic for loading data\n",
    "def load_sample_data(filepath, dtypes, fraction=1.0):\n",
    "    return pd.read_csv(\n",
    "        filepath,\n",
    "        skiprows=lambda i: i > 0 and np.random.rand() > fraction,\n",
    "        dtype=dtypes,\n",
    "    ).dropna()\n",
    "\n",
    "# Load datasets with sampling and types\n",
    "train_df = load_sample_data(TRAIN_PATH, CONFIG[\"column_types\"], CONFIG[\"sample_rate\"])\n",
    "test_df = pd.read_csv(TEST_PATH)"
   ]
  },
  {
   "cell_type": "code",
   "execution_count": null,
   "metadata": {
    "trusted": true
   },
   "outputs": [],
   "source": [
    "# Remove outliers from the dataset\n",
    "def clean_data(data):\n",
    "    conditions = [\n",
    "        (data[\"fare_amount\"].between(1, 500)),\n",
    "        (data[\"pickup_longitude\"].between(-75, -72)),\n",
    "        (data[\"pickup_latitude\"].between(40, 42)),\n",
    "        (data[\"dropoff_longitude\"].between(-75, -72)),\n",
    "        (data[\"dropoff_latitude\"].between(40, 42)),\n",
    "        (data[\"passenger_count\"].between(1, 6)),\n",
    "    ]\n",
    "    return data[np.logical_and.reduce(conditions)]\n",
    "\n",
    "train_df = clean_data(train_df)\n",
    "\n",
    "# Add datetime features\n",
    "def extract_datetime_features(df, remove_original=True):\n",
    "    if \"pickup_datetime\" in df:\n",
    "        df[\"pickup_datetime\"] = pd.to_datetime(df[\"pickup_datetime\"], errors=\"coerce\")\n",
    "        df[\"year\"] = df[\"pickup_datetime\"].dt.year\n",
    "        df[\"month\"] = df[\"pickup_datetime\"].dt.month\n",
    "        df[\"day\"] = df[\"pickup_datetime\"].dt.day\n",
    "        df[\"hour\"] = df[\"pickup_datetime\"].dt.hour\n",
    "        if remove_original:\n",
    "            df.drop(columns=[\"pickup_datetime\"], inplace=True)\n",
    "\n",
    "extract_datetime_features(train_df)\n",
    "extract_datetime_features(test_df)\n",
    "\n",
    "# Select only numeric columns\n",
    "train_df = train_df.select_dtypes(include=[\"float32\", \"float64\", \"int32\", \"int64\"])\n",
    "test_df = test_df.select_dtypes(include=[\"float32\", \"float64\", \"int32\", \"int64\"])\n",
    "\n",
    "# Separate features and target variable\n",
    "features = train_df.drop(columns=[\"fare_amount\"])\n",
    "target = train_df[\"fare_amount\"]"
   ]
  },
  {
   "cell_type": "code",
   "execution_count": null,
   "metadata": {
    "trusted": true
   },
   "outputs": [],
   "source": [
    "# Train-test split\n",
    "X_train, X_valid, y_train, y_valid = train_test_split(\n",
    "    features, target, test_size=0.2, random_state=SEED\n",
    ")"
   ]
  },
  {
   "cell_type": "code",
   "execution_count": null,
   "metadata": {
    "trusted": true
   },
   "outputs": [],
   "source": [
    "# Function to evaluate a model and compute RMSE\n",
    "def evaluate_model(model, X_tr, y_tr, X_val, y_val):\n",
    "    model.fit(X_tr, y_tr)\n",
    "    train_preds = model.predict(X_tr)\n",
    "    valid_preds = model.predict(X_val)\n",
    "    train_rmse = mean_squared_error(y_tr, train_preds, squared=False)\n",
    "    valid_rmse = mean_squared_error(y_val, valid_preds, squared=False)\n",
    "    return train_rmse, valid_rmse"
   ]
  },
  {
   "cell_type": "code",
   "execution_count": null,
   "metadata": {
    "trusted": true
   },
   "outputs": [],
   "source": [
    "# Generate and save predictions for submission\n",
    "def save_submission(model, test_data, template_path, output_path=\"submission.csv\"):\n",
    "    predictions = model.predict(test_data)\n",
    "    submission = pd.read_csv(template_path)\n",
    "    submission[\"fare_amount\"] = predictions\n",
    "    submission.to_csv(output_path, index=False)\n",
    "    return FileLink(output_path)"
   ]
  },
  {
   "cell_type": "code",
   "execution_count": null,
   "metadata": {
    "trusted": true
   },
   "outputs": [],
   "source": [
    "# Train and evaluate models\n",
    "models = {\n",
    "    \"LinearRegression\": LinearRegression(),\n",
    "    \"RandomForest\": RandomForestRegressor(random_state=SEED, n_jobs=-1),\n",
    "    \"DecisionTree\": DecisionTreeRegressor(random_state=SEED),\n",
    "    \"GradientBoosting\": GradientBoostingRegressor(random_state=SEED),\n",
    "    \"XGBoost\": XGBRegressor(\n",
    "       objective=\"reg:squarederror\", tree_method=\"hist\", random_state=SEED, n_jobs=-1\n",
    "    ),\n",
    "}"
   ]
  },
  {
   "cell_type": "code",
   "execution_count": null,
   "metadata": {
    "trusted": true
   },
   "outputs": [],
   "source": [
    "# Template file path\n",
    "SUBMISSION_TEMPLATE = \"/kaggle/input/new-york-city-taxi-fare-prediction/sample_submission.csv\"\n",
    "\n",
    "# Train, evaluate, and create submission files\n",
    "for name, model in models.items():\n",
    "    train_rmse, val_rmse = evaluate_model(model, X_train, y_train, X_valid, y_valid)\n",
    "    print(f\"{name} - Training RMSE: {train_rmse:.2f}, Validation RMSE: {val_rmse:.2f}\")\n",
    "    \n",
    "    # Save the submission as submission.csv for each model\n",
    "    link = save_submission(model, test_df, SUBMISSION_TEMPLATE, output_path=\"submission.csv\")\n",
    "    display(link)"
   ]
  },
  {
   "cell_type": "markdown",
   "metadata": {},
   "source": [
    "\n",
    "\n",
    "## Performance Scores Table:\n",
    "\n",
    "| Model              | Training RMSE | Validation RMSE | Private Test RMSE (Score) |\n",
    "|---------------------|---------------|------------------|---------------------------|\n",
    "| LinearRegression    | 8.33          | 8.39             | 7.91451                   |\n",
    "| XGBoost             | 3.92          | 4.06             | **3.34271**               |\n",
    "| DecisionTree        | 0.05          | 5.48             | 7.11034                   |\n",
    "| GradientBoosting    | 4.73          | 4.79             | 4.18123                   |\n",
    "| RandomForest        | 1.41          | 3.83             | **3.30934**               |\n",
    "\n",
    "## Top-2 Scoring Models\n",
    "1. **RandomForest Regressor**: Private Test RMSE: **3.30934**  \n",
    "   - Ensemble of decision trees that reduces overfitting by averaging predictions.\n",
    "\n",
    "2. **XGBoost Regressor**: Private Test RMSE: **3.34271**  \n",
    "   - Gradient boosting with regularization and optimized tree pruning for balanced performance.\n",
    "\n",
    "## Analysis\n",
    "- **RandomForest** excelled due to its ensemble approach, reducing variance and generalizing well.\n",
    "- **XGBoost** performed well by iteratively optimizing weak learners and controlling complexity.\n",
    "- Lower-performing models like DecisionTree overfit, while LinearRegression and GradientBoosting lacked the advanced optimization of XGBoost.\n"
   ]
  }
 ],
 "metadata": {
  "kaggle": {
   "accelerator": "gpu",
   "dataSources": [
    {
     "databundleVersionId": 61318,
     "sourceId": 10170,
     "sourceType": "competition"
    }
   ],
   "dockerImageVersionId": 30787,
   "isGpuEnabled": true,
   "isInternetEnabled": true,
   "language": "python",
   "sourceType": "notebook"
  },
  "kernelspec": {
   "display_name": "Python 3",
   "language": "python",
   "name": "python3"
  },
  "language_info": {
   "codemirror_mode": {
    "name": "ipython",
    "version": 3
   },
   "file_extension": ".py",
   "mimetype": "text/x-python",
   "name": "python",
   "nbconvert_exporter": "python",
   "pygments_lexer": "ipython3",
   "version": "3.6.4"
  }
 },
 "nbformat": 4,
 "nbformat_minor": 4
}

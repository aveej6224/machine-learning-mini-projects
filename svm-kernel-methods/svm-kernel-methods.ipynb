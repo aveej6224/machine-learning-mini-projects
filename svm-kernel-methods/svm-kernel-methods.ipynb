{
 "cells": [
  {
   "cell_type": "markdown",
   "metadata": {},
   "source": [
    "# 4] SVMs:\n"
   ]
  },
  {
   "cell_type": "markdown",
   "metadata": {},
   "source": [
    "    SUBJECT: Foundations of Machine Learning(CS5590)"
   ]
  },
  {
   "cell_type": "markdown",
   "metadata": {},
   "source": [
    "    NAME: Aviraj Antala  \n",
    "    Roll No:CS24MTECH14011"
   ]
  },
  {
   "cell_type": "code",
   "execution_count": 13,
   "metadata": {},
   "outputs": [
    {
     "name": "stdout",
     "output_type": "stream",
     "text": [
      "Answer 4_a)\n",
      "\n",
      "Accuracy on test data: 0.98(97.88%)\n",
      "Total Number of Support Vectors: 28\n"
     ]
    }
   ],
   "source": [
    "import pandas as pd\n",
    "import numpy as np\n",
    "from sklearn.svm import SVC\n",
    "from sklearn.metrics import accuracy_score\n",
    "\n",
    "#First for apply svm we need to load the data \n",
    "#here sep='\\s+' use to handle space or tabs between data header none means there is no header of column\n",
    "train_data = pd.read_csv(\"http://www.amlbook.com/data/zip/features.train\", sep='\\s+', header=None)\n",
    "test_data = pd.read_csv(\"http://www.amlbook.com/data/zip/features.test\", sep='\\s+', header=None)\n",
    "\n",
    "# selecting the row where number is either 1 or 5\n",
    "# here we make copy so we can avoid changes in original data \n",
    "train_with_0_5= train_data[(train_data[0] == 1) | (train_data[0] == 5)].copy()\n",
    "test_with_0_5 = test_data[(test_data[0] == 1) | (test_data[0] == 5)].copy()\n",
    "\n",
    "# in question it is given that consider 1 as a positive class and 5 as negative class \n",
    "train_with_0_5[0] = train_with_0_5[0].where(train_with_0_5[0] == 1, -1)\n",
    "test_with_0_5[0] = test_with_0_5[0].where(test_with_0_5[0] == 1, -1)\n",
    "\n",
    "# now we know that first column is target labels so we need to seperate lables and features\n",
    "X_train = train_with_0_5.loc[:, 1:].values\n",
    "y_train = train_with_0_5.iloc[:, 0].values\n",
    "\n",
    "X_test = test_with_0_5 .iloc[:, 1:].values\n",
    "y_test = test_with_0_5 .iloc[:, 0].values\n",
    "\n",
    "# now we need to train the model so first create the model\n",
    "# here we can use c as regularization parameter\n",
    "linear_svm_model = SVC(kernel='linear')\n",
    "linear_svm_model.fit(X_train, y_train)\n",
    "\n",
    "# Predict and evaluate\n",
    "y_pred = linear_svm_model.predict(X_test)\n",
    "accuracy = accuracy_score(y_test, y_pred)\n",
    "total_supportvector = len(linear_svm_model.support_vectors_)\n",
    "print(\"Answer 4_a)\\n\")\n",
    "print(f\"Accuracy on test data: {accuracy:.2f}({accuracy*100:.2f}%)\")\n",
    "print(f\"Total Number of Support Vectors: {total_supportvector}\")\n"
   ]
  },
  {
   "cell_type": "markdown",
   "metadata": {},
   "source": [
    "    Answer 4_a)"
   ]
  },
  {
   "cell_type": "markdown",
   "metadata": {},
   "source": [
    "* Total accuracy for the test data=97.88%  \n",
    "* Total number of support vector= 28  \n",
    "* Also we know that support vector and accuracy depends on regularization parameter C.\n",
    "* With C=2 then support vector is 26.\n",
    "* With C=100 then accuracy is 98.11% that show that if C large then it give less misclassification but it leads to overfitting also.\n"
   ]
  },
  {
   "cell_type": "markdown",
   "metadata": {},
   "source": [
    "    Answer 4_b)"
   ]
  },
  {
   "cell_type": "code",
   "execution_count": 26,
   "metadata": {},
   "outputs": [
    {
     "name": "stdout",
     "output_type": "stream",
     "text": [
      "Answer 4_b)\n",
      "\n",
      "Size of train data: 50\n",
      "Accuracy: 0.9811(98.11%)\n",
      "Total Number of Support Vectors: 2\n",
      "\n",
      "Size of train data: 100\n",
      "Accuracy: 0.9811(98.11%)\n",
      "Total Number of Support Vectors: 4\n",
      "\n",
      "Size of train data: 200\n",
      "Accuracy: 0.9811(98.11%)\n",
      "Total Number of Support Vectors: 8\n",
      "\n",
      "Size of train data: 800\n",
      "Accuracy: 0.9811(98.11%)\n",
      "Total Number of Support Vectors: 14\n",
      "\n"
     ]
    }
   ],
   "source": [
    "# now we have to take different size as a input so for better we make a list of input\n",
    "datasize = [50, 100, 200, 800]\n",
    "print(\"Answer 4_b)\\n\")\n",
    "for size in datasize:\n",
    "    X_train_1_5 = X_train[:size] #this shows that for each loop we take train data upto 50, 100, 200, or 800\n",
    "    y_train_1_5 = y_train[:size] #same for lables\n",
    "\n",
    "    # train the svm with different size of data\n",
    "    linear_svm_size= SVC(kernel='linear', C=1)\n",
    "    linear_svm_size.fit(X_train_1_5, y_train_1_5)\n",
    "\n",
    "    # predict value on test data\n",
    "    y_pred_size = linear_svm_size.predict(X_test)\n",
    "    accuracy_subset = accuracy_score(y_test, y_pred_size)\n",
    "    total_supportvector_size = len(linear_svm_size.support_)\n",
    "\n",
    "    \n",
    "    print(f\"Size of train data: {size}\")\n",
    "    print(f\"Accuracy: {accuracy_subset:.4f}({accuracy_subset*100:.2f}%)\")\n",
    "    print(f\"Total Number of Support Vectors: {total_supportvector_size}\\n\")\n"
   ]
  },
  {
   "cell_type": "code",
   "execution_count": 27,
   "metadata": {},
   "outputs": [
    {
     "name": "stdout",
     "output_type": "stream",
     "text": [
      "Answer 4_c)\n",
      "\n",
      "Q = 2, C = 0.0001\n",
      "Training Error: 0.3408 (34.08%)\n",
      "Test Error: 0.3467 (34.67%)\n",
      "Total Number of Support Vectors: 1112\n",
      "\n",
      "Q = 5, C = 0.0001\n",
      "Training Error: 0.0519 (5.19%)\n",
      "Test Error: 0.0755 (7.55%)\n",
      "Total Number of Support Vectors: 374\n",
      "\n",
      "Q = 2, C = 0.001\n",
      "Training Error: 0.0250 (2.50%)\n",
      "Test Error: 0.0354 (3.54%)\n",
      "Total Number of Support Vectors: 558\n",
      "\n",
      "Q = 5, C = 0.001\n",
      "Training Error: 0.0211 (2.11%)\n",
      "Test Error: 0.0307 (3.07%)\n",
      "Total Number of Support Vectors: 158\n",
      "\n",
      "Q = 2, C = 0.01\n",
      "Training Error: 0.0083 (0.83%)\n",
      "Test Error: 0.0212 (2.12%)\n",
      "Total Number of Support Vectors: 164\n",
      "\n",
      "Q = 5, C = 0.01\n",
      "Training Error: 0.0083 (0.83%)\n",
      "Test Error: 0.0212 (2.12%)\n",
      "Total Number of Support Vectors: 68\n",
      "\n",
      "Q = 2, C = 1\n",
      "Training Error: 0.0045 (0.45%)\n",
      "Test Error: 0.0189 (1.89%)\n",
      "Total Number of Support Vectors: 30\n",
      "\n",
      "Q = 5, C = 1\n",
      "Training Error: 0.0045 (0.45%)\n",
      "Test Error: 0.0165 (1.65%)\n",
      "Total Number of Support Vectors: 26\n",
      "\n"
     ]
    }
   ],
   "source": [
    "# we have to check with Q=2 and Q=5\n",
    "# C values is given in question \n",
    "Q_value = [2, 5]\n",
    "C_value = [0.0001, 0.001, 0.01, 1]\n",
    "print(\"Answer 4_c)\\n\")\n",
    "for C in C_value:\n",
    "    for Q in Q_value:\n",
    "        poly_svm_model = SVC(kernel='poly', degree=Q, C=C) # now we have to make polynomial kernal\n",
    "        poly_svm_model.fit(X_train, y_train)\n",
    "\n",
    "        # training error\n",
    "        y_train_pred_Q_C = poly_svm_model.predict(X_train)\n",
    "        train_error_Q_C = (1 - accuracy_score(y_train, y_train_pred_Q_C))\n",
    "\n",
    "        # total number of support vectors\n",
    "        total_support_vectors_poly = len(poly_svm_model.support_)\n",
    "\n",
    "        # test error\n",
    "        y_test_pred_Q_C = poly_svm_model.predict(X_test)\n",
    "        test_error_Q_C = (1 - accuracy_score(y_test, y_test_pred_Q_C))\n",
    "\n",
    "        print(f\"Q = {Q}, C = {C}\")\n",
    "        print(f\"Training Error: {train_error_Q_C:.4f} ({train_error_Q_C * 100:.2f}%)\")\n",
    "        print(f\"Test Error: {test_error_Q_C:.4f} ({test_error_Q_C * 100:.2f}%)\")\n",
    "        print(f\"Total Number of Support Vectors: {total_support_vectors_poly}\\n\")\n",
    "\n"
   ]
  },
  {
   "cell_type": "markdown",
   "metadata": {},
   "source": [
    "    Answer 4_c)"
   ]
  },
  {
   "cell_type": "markdown",
   "metadata": {},
   "source": [
    "<i><b>i) When C = 0.0001, training error is higher at Q = 5.</i> </b> \n",
    "When Q=2 training error =34.08%  \n",
    "When Q=5 training error =5.19%  \n",
    "        Anwer: False  <br><br>\n",
    "<i><b>ii) When C = 0.001, the number of support vectors is lower at Q = 5.</i> </b>   \n",
    "When Q=2 number of support vector = 164  \n",
    "When Q=5 number of support vector = 68  \n",
    "        Anwer: True  <br><br>  \n",
    "<i><b>iii) When C = 0.01, training error is higher at Q = 5. </i> </b>  \n",
    "When Q=2 training error =0.83%    \n",
    "When Q=5 training error =0.83%    \n",
    "        Anwer: flase <br><br>\n",
    "<i><b>iv) When C = 1, test error is lower at Q = 5</i> </b>   \n",
    "When Q=2 testing error =1.89%  \n",
    "When Q=5 testing error =1.65%  \n",
    "        Anwer: True  <br><br>"
   ]
  },
  {
   "cell_type": "code",
   "execution_count": 28,
   "metadata": {},
   "outputs": [
    {
     "name": "stdout",
     "output_type": "stream",
     "text": [
      "Answer 4_d)\n",
      "\n",
      "C = 0.01\n",
      "Training Error: 0.0051 (0.51%)\n",
      "Test Error: 0.0165 (1.65%)\n",
      "Total Number of Support Vectors: 345\n",
      "\n",
      "C = 1\n",
      "Training Error: 0.0045 (0.45%)\n",
      "Test Error: 0.0212 (2.12%)\n",
      "Total Number of Support Vectors: 33\n",
      "\n",
      "C = 100\n",
      "Training Error: 0.0032 (0.32%)\n",
      "Test Error: 0.0189 (1.89%)\n",
      "Total Number of Support Vectors: 24\n",
      "\n",
      "C = 10000\n",
      "Training Error: 0.0026 (0.26%)\n",
      "Test Error: 0.0189 (1.89%)\n",
      "Total Number of Support Vectors: 18\n",
      "\n",
      "C = 1000000\n",
      "Training Error: 0.0026 (0.26%)\n",
      "Test Error: 0.0236 (2.36%)\n",
      "Total Number of Support Vectors: 15\n",
      "\n"
     ]
    }
   ],
   "source": [
    "# different c values\n",
    "C_value_rbf = [0.01, 1, 100, 10000, 1000000]\n",
    "print(\"Answer 4_d)\\n\")\n",
    "for C in C_value_rbf:\n",
    "    rbf_svm_model = SVC(kernel='rbf', C=C) #now we have to create rbf kernal\n",
    "    rbf_svm_model.fit(X_train, y_train)\n",
    "\n",
    "    # training error\n",
    "    y_train_pred_rbf = rbf_svm_model.predict(X_train)\n",
    "    train_error_rbf = (1 - accuracy_score(y_train, y_train_pred_rbf))\n",
    "\n",
    "    # test error\n",
    "    y_test_pred_rbf = rbf_svm_model.predict(X_test)\n",
    "    test_error_rbf = (1 - accuracy_score(y_test, y_test_pred_rbf))\n",
    "    total_support_vectors_rbf = len(rbf_svm_model.support_)\n",
    "\n",
    "    print(f\"C = {C}\")\n",
    "    print(f\"Training Error: {train_error_rbf:.4f} ({train_error_rbf * 100:.2f}%)\")\n",
    "    print(f\"Test Error: {test_error_rbf:.4f} ({test_error_rbf * 100:.2f}%)\")\n",
    "    print(f\"Total Number of Support Vectors: {total_support_vectors_rbf}\\n\")\n",
    "\n"
   ]
  },
  {
   "cell_type": "markdown",
   "metadata": {},
   "source": [
    "    Answer 4_d)"
   ]
  },
  {
   "cell_type": "markdown",
   "metadata": {},
   "source": [
    "1) lowest training error: when C = 10000 or C = 1000000 then Training error = 0.26% \n",
    "2) lowest testing error: when C = 0.01 then Testing error = 1.65%  \n",
    "   \n"
   ]
  },
  {
   "cell_type": "code",
   "execution_count": 1,
   "metadata": {},
   "outputs": [
    {
     "name": "stdout",
     "output_type": "stream",
     "text": [
      "[0] Downloading 'https://archive.ics.uci.edu/static/public/170/gisette.zip' ...\n",
      "Saving 'gisette.zip'\n",
      "HTTP response 200 OK [https://archive.ics.uci.edu/static/public/170/gisette.zip]\n",
      "\u001b[m\u001b[m\u001b[m\u001b[m"
     ]
    }
   ],
   "source": [
    "!wget https://archive.ics.uci.edu/static/public/170/gisette.zip #download datafile"
   ]
  },
  {
   "cell_type": "code",
   "execution_count": 6,
   "metadata": {},
   "outputs": [
    {
     "name": "stdout",
     "output_type": "stream",
     "text": [
      "Archive:  gisette.zip\n",
      "  inflating: Dataset.pdf             \n",
      "   creating: GISETTE/\n",
      "  inflating: GISETTE/gisette.param   \n",
      "  inflating: GISETTE/gisette_test.data  \n",
      "  inflating: GISETTE/gisette_train.data  \n",
      "  inflating: GISETTE/gisette_train.labels  \n",
      "  inflating: GISETTE/gisette_valid.data  \n",
      "  inflating: gisette_valid.labels    \n"
     ]
    }
   ],
   "source": [
    "!unzip gisette.zip #unzip data file"
   ]
  },
  {
   "cell_type": "code",
   "execution_count": 7,
   "metadata": {},
   "outputs": [],
   "source": [
    "!mv ./GISETTE/* . #move to current directory"
   ]
  },
  {
   "cell_type": "markdown",
   "metadata": {},
   "source": [
    "# 5] SVMs:\n"
   ]
  },
  {
   "cell_type": "code",
   "execution_count": 18,
   "metadata": {},
   "outputs": [],
   "source": [
    "# first we need to load the data\n",
    "X_train = pd.read_csv('gisette_train.data', sep='\\s+', header=None)\n",
    "y_train = pd.read_csv('gisette_train.labels', sep='\\s+', header=None)\n",
    "\n",
    "# now test data is not available so we use validaton as test \n",
    "X_test = pd.read_csv('gisette_valid.data', sep='\\s+', header=None)\n",
    "y_test = pd.read_csv('gisette_valid.labels', sep='\\s+', header=None)\n",
    "\n",
    "y_train = y_train.values.ravel()  # we need to convert dataframe to 1-d array otherwise give warning \n",
    "y_test = y_test.values.ravel()     \n",
    "\n",
    "# now here i make function for making model we can do same in 4th question also \n",
    "def create_svm(kernel, gamma=0, degree=0, coef0=0.0):\n",
    "    \n",
    "    # create scm model with different para as asked in question \n",
    "    if kernel==\"poly\":\n",
    "        svm_model = SVC(kernel=kernel, degree=degree, coef0=coef0)\n",
    "    else:\n",
    "        svm_model = SVC(kernel=kernel, gamma=gamma, degree=degree, coef0=coef0)\n",
    "    print(f\"Training the SVM model with {kernel} kernel\\n\")\n",
    "    svm_model.fit(X_train, y_train)\n",
    "\n",
    "    # predict on train data set\n",
    "    train_predictions = svm_model.predict(X_train)\n",
    "    train_error = 1 - accuracy_score(y_train, train_predictions)\n",
    "\n",
    "    # predict on test set\n",
    "    test_predictions = svm_model.predict(X_test)\n",
    "    test_error = 1 - accuracy_score(y_test, test_predictions)\n",
    "\n",
    "    # total number of support vectors\n",
    "    num_support_vectors = len(svm_model.support_)\n",
    "\n",
    "    print(f\"Kernel: {kernel}\")\n",
    "    print(f\"Train Error: {train_error:.4f} ({train_error * 100:.2f}%)\")\n",
    "    print(f\"Test Error: {test_error:.4f} ({test_error * 100:.2f}%)\")\n",
    "    print(f\"Number of Support Vectors: {num_support_vectors}\")\n"
   ]
  },
  {
   "cell_type": "markdown",
   "metadata": {},
   "source": [
    "    Answer 5_a)"
   ]
  },
  {
   "cell_type": "code",
   "execution_count": 19,
   "metadata": {},
   "outputs": [
    {
     "name": "stdout",
     "output_type": "stream",
     "text": [
      "Answer 5_a)\n",
      "\n",
      "Training the SVM model with linear kernel\n",
      "\n",
      "Kernel: linear\n",
      "Train Error: 0.0000 (0.00%)\n",
      "Test Error: 0.0240 (2.40%)\n",
      "Number of Support Vectors: 1084\n"
     ]
    }
   ],
   "source": [
    "print(\"Answer 5_a)\\n\")\n",
    "create_svm(kernel='linear')"
   ]
  },
  {
   "cell_type": "markdown",
   "metadata": {},
   "source": [
    "    Answer 5_b)"
   ]
  },
  {
   "cell_type": "code",
   "execution_count": 20,
   "metadata": {},
   "outputs": [
    {
     "name": "stdout",
     "output_type": "stream",
     "text": [
      "Answer 5_b)\n",
      "\n",
      "Training the SVM model with rbf kernel\n",
      "\n",
      "Kernel: rbf\n",
      "Train Error: 0.0000 (0.00%)\n",
      "Test Error: 0.5000 (50.00%)\n",
      "Number of Support Vectors: 6000\n"
     ]
    }
   ],
   "source": [
    "print(\"Answer 5_b)\\n\")\n",
    "create_svm(kernel='rbf', gamma=0.001)"
   ]
  },
  {
   "cell_type": "markdown",
   "metadata": {},
   "source": [
    "    Answer 5_b)"
   ]
  },
  {
   "cell_type": "code",
   "execution_count": 21,
   "metadata": {},
   "outputs": [
    {
     "name": "stdout",
     "output_type": "stream",
     "text": [
      "Answer 5_c)\n",
      "\n",
      "Training the SVM model with poly kernel\n",
      "\n",
      "Kernel: poly\n",
      "Train Error: 0.0005 (0.05%)\n",
      "Test Error: 0.0200 (2.00%)\n",
      "Number of Support Vectors: 1332\n"
     ]
    }
   ],
   "source": [
    "print(\"Answer 5_c)\\n\")\n",
    "create_svm(kernel='poly',gamma=0, degree=2, coef0=1.0)"
   ]
  },
  {
   "cell_type": "markdown",
   "metadata": {},
   "source": [
    "<i><b>1. Which kernel yields the lowest training error? </i></b>   \n",
    "Answer: rbf kernal because in the case polynomial training error is 0.05%  \n"
   ]
  }
 ],
 "metadata": {
  "kernelspec": {
   "display_name": "Python 3",
   "language": "python",
   "name": "python3"
  },
  "language_info": {
   "codemirror_mode": {
    "name": "ipython",
    "version": 3
   },
   "file_extension": ".py",
   "mimetype": "text/x-python",
   "name": "python",
   "nbconvert_exporter": "python",
   "pygments_lexer": "ipython3",
   "version": "3.11.9"
  }
 },
 "nbformat": 4,
 "nbformat_minor": 2
}

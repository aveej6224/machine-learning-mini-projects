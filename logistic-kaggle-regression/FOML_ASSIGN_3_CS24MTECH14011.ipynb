{
 "cells": [
  {
   "cell_type": "markdown",
   "metadata": {},
   "source": [
    "# FOML_ASSIGNMENT_3"
   ]
  },
  {
   "cell_type": "markdown",
   "metadata": {},
   "source": [
    "    Name:ANTALA AVIRAJ (CS24MTECH14011)"
   ]
  },
  {
   "cell_type": "markdown",
   "metadata": {},
   "source": [
    "    Question 5_a)Random Forests:"
   ]
  },
  {
   "cell_type": "code",
   "execution_count": 4,
   "metadata": {},
   "outputs": [
    {
     "name": "stdout",
     "output_type": "stream",
     "text": [
      "Custom Random Forest Accuracy: 0.8638667632150615\n",
      "Time taken by custom Random Forest: 136.9068 seconds\n",
      "___________________________________________________________\n",
      "Scikit-learn Random Forest Accuracy: 0.9565532223026793\n",
      "Time taken by Scikit-learn Random Forest: 0.8679 seconds\n"
     ]
    }
   ],
   "source": [
    "import numpy as np\n",
    "import pandas as pd\n",
    "from sklearn.model_selection import train_test_split\n",
    "from sklearn.ensemble import RandomForestClassifier\n",
    "from sklearn.metrics import accuracy_score\n",
    "import time\n",
    "import random\n",
    "from collections import Counter\n",
    "\n",
    "# Load the dataset we can direct download the data from the website\n",
    "url = \"https://archive.ics.uci.edu/ml/machine-learning-databases/spambase/spambase.data\"\n",
    "data = pd.read_csv(url, header=None)\n",
    "\n",
    "# now we need seperate out the features and lables \n",
    "X = data.iloc[:, :-1].values  \n",
    "y = data.iloc[:, -1].values\n",
    "\n",
    "# Train-test split (as mention in question we use 30% for  test, 70% for train)\n",
    "X_train, X_test, y_train, y_test = train_test_split(X, y, test_size=0.3, random_state=42)\n",
    "\n",
    "\n",
    "# Decision Tree Class with Entropy\n",
    "class DecisionTree:\n",
    "    def __init__(self, max_depth=None):\n",
    "        self.max_depth = max_depth\n",
    "        self.tree = None\n",
    "    \n",
    "    def fit(self, X, y):\n",
    "        self.tree = self._build_tree(X, y)\n",
    "    \n",
    "    def _build_tree(self, X, y, depth=0):\n",
    "        # If stopping condition is met, return a leaf node\n",
    "        if len(set(y)) == 1:\n",
    "            return y[0]\n",
    "        if self.max_depth is not None and depth >= self.max_depth:\n",
    "            return Counter(y).most_common(1)[0][0]\n",
    "\n",
    "        # Find the best split\n",
    "        best_feature, best_threshold = self._best_split(X, y)\n",
    "        \n",
    "        if best_feature is None:\n",
    "            return Counter(y).most_common(1)[0][0]\n",
    "\n",
    "        # Split the dataset\n",
    "        left_indices = X[:, best_feature] < best_threshold\n",
    "        right_indices = X[:, best_feature] >= best_threshold\n",
    "\n",
    "        left_tree = self._build_tree(X[left_indices], y[left_indices], depth + 1)\n",
    "        right_tree = self._build_tree(X[right_indices], y[right_indices], depth + 1)\n",
    "\n",
    "        return (best_feature, best_threshold, left_tree, right_tree)\n",
    "    \n",
    "    def _best_split(self, X, y):\n",
    "        # we find best split based on the entropy value and information gain\n",
    "        best_entropy = float('inf')\n",
    "        best_feature = None\n",
    "        best_threshold = None\n",
    "\n",
    "        for feature in range(X.shape[1]):\n",
    "            thresholds = np.unique(X[:, feature])# Here we try to use numpy in maximum cases for faster output \n",
    "            for threshold in thresholds:\n",
    "                left = y[X[:, feature] < threshold]\n",
    "                right = y[X[:, feature] >= threshold]\n",
    "                if len(left) == 0 or len(right) == 0:  # this condition prevent empty splits\n",
    "                    continue\n",
    "                entropy = self._entropy_impurity(left, right)\n",
    "                if entropy < best_entropy:\n",
    "                    best_entropy = entropy\n",
    "                    best_feature = feature\n",
    "                    best_threshold = threshold\n",
    "        return best_feature, best_threshold\n",
    "    \n",
    "    def _entropy_impurity(self, left, right):\n",
    "        # we need maximum gain so we need to calculte entropy \n",
    "        def entropy(y):\n",
    "            if len(y) == 0:  \n",
    "                return 0\n",
    "            counts = np.bincount(y) # we cal also do this by unique functin or manually \n",
    "            probabilities = counts / len(y)\n",
    "            return -np.sum([p * np.log2(p) for p in probabilities if p > 0])\n",
    "        \n",
    "        total = len(left) + len(right)\n",
    "        return (len(left) / total) * entropy(left) + (len(right) / total) * entropy(right)\n",
    "    \n",
    "    def predict(self, X):\n",
    "        return np.array([self._predict_row(row) for row in X])\n",
    "    \n",
    "    def _predict_row(self, row):\n",
    "        node = self.tree\n",
    "        while isinstance(node, tuple):\n",
    "            feature, threshold, left_tree, right_tree = node\n",
    "            if row[feature] < threshold:\n",
    "                node = left_tree\n",
    "            else:\n",
    "                node = right_tree\n",
    "        return node\n",
    "\n",
    "\n",
    "# Randomforest class for custom output\n",
    "class RandomForest:\n",
    "    def __init__(self, n_estimators=10, max_depth=None, max_features=None):\n",
    "        self.n_estimators = n_estimators\n",
    "        self.max_depth = max_depth\n",
    "        self.max_features = max_features\n",
    "        self.trees = []\n",
    "        self.oob_predictions = None  # we need to make OOB graph in further question so we can stor OOB predictions\n",
    "\n",
    "    def fit(self, X, y):\n",
    "        n_samples = X.shape[0]\n",
    "        # Initialize OOB predictions array\n",
    "        self.oob_predictions = np.full(n_samples, -1)  # Use -1 to indicate not predicted\n",
    "        \n",
    "        for i in range(self.n_estimators):\n",
    "            # Bootstrap sample\n",
    "            bootstrap_indices = np.random.choice(n_samples, n_samples, replace=True)\n",
    "            oob_indices = np.setdiff1d(np.arange(n_samples), bootstrap_indices)  # OOB indices\n",
    "            X_bootstrap = X[bootstrap_indices]\n",
    "            y_bootstrap = y[bootstrap_indices]\n",
    "\n",
    "            # Subset of features for each treee\n",
    "            if self.max_features:\n",
    "                features = np.random.choice(X.shape[1], self.max_features, replace=False)\n",
    "                X_bootstrap = X_bootstrap[:, features]\n",
    "            else:\n",
    "                features = np.arange(X.shape[1])\n",
    "\n",
    "            # Fit tree\n",
    "            tree = DecisionTree(max_depth=self.max_depth)\n",
    "            tree.fit(X_bootstrap, y_bootstrap)\n",
    "            self.trees.append((tree, features))\n",
    "\n",
    "            # here we store predictions for OOB samples\n",
    "            if len(oob_indices) > 0:\n",
    "                oob_preds = tree.predict(X[oob_indices][:, features])  # Predict only for OOB samples\n",
    "                for idx, pred in zip(oob_indices, oob_preds):\n",
    "                    if self.oob_predictions[idx] == -1:  # Only set if not already predicted\n",
    "                        self.oob_predictions[idx] = pred\n",
    "\n",
    "    def oob_error(self, y):\n",
    "        # Calculate OOB error\n",
    "        oob_error_rate = np.mean(self.oob_predictions[self.oob_predictions != -1] != y[self.oob_predictions != -1])\n",
    "        return oob_error_rate\n",
    "\n",
    "    def predict(self, X):\n",
    "        tree_preds = np.array([tree.predict(X[:, features]) for tree, features in self.trees])\n",
    "        return np.apply_along_axis(lambda x: Counter(x).most_common(1)[0][0], axis=0, arr=tree_preds)\n",
    "\n",
    "#now our custom random forest function is completed so we can train and evaluate custom Random Forest\n",
    "start_time = time.time() # we need to compare so we required time \n",
    "\n",
    "custom_rf = RandomForest(n_estimators=100, max_depth=None, max_features=7)\n",
    "custom_rf.fit(X_train, y_train)\n",
    "custom_preds = custom_rf.predict(X_test)\n",
    "\n",
    "end_time = time.time()\n",
    "custom_time_taken = end_time - start_time\n",
    "custom_accuracy = accuracy_score(y_test, custom_preds)\n",
    "\n",
    "print(f\"Custom Random Forest Accuracy: {custom_accuracy}\")\n",
    "print(f\"Time taken by custom Random Forest: {custom_time_taken:.4f} seconds\")\n",
    "print(\"___________________________________________________________\")\n",
    "\n",
    "# train and evaluate Scikit-learn's RandomForestClassifier\n",
    "start_time = time.time()\n",
    "\n",
    "sklearn_rf = RandomForestClassifier(n_estimators=100, max_depth=None, max_features=7, random_state=42)\n",
    "sklearn_rf.fit(X_train, y_train)\n",
    "sklearn_preds = sklearn_rf.predict(X_test)\n",
    "\n",
    "end_time = time.time()\n",
    "sklearn_time_taken = end_time - start_time\n",
    "sklearn_accuracy = accuracy_score(y_test, sklearn_preds)\n",
    "\n",
    "print(f\"Scikit-learn Random Forest Accuracy: {sklearn_accuracy}\")\n",
    "print(f\"Time taken by Scikit-learn Random Forest: {sklearn_time_taken:.4f} seconds\")\n",
    "\n",
    "\n",
    "\n"
   ]
  },
  {
   "cell_type": "markdown",
   "metadata": {},
   "source": [
    "    Question 5_b)Random Forests:"
   ]
  },
  {
   "cell_type": "code",
   "execution_count": 2,
   "metadata": {},
   "outputs": [
    {
     "name": "stdout",
     "output_type": "stream",
     "text": [
      "max_features: 1, TPR (Sensitivity): 0.0295, Time Taken: 4.9523 seconds\n",
      "max_features: 4, TPR (Sensitivity): 0.4471, Time Taken: 26.9512 seconds\n",
      "max_features: 7, TPR (Sensitivity): 0.6655, Time Taken: 54.9254 seconds\n",
      "max_features: 10, TPR (Sensitivity): 0.8042, Time Taken: 91.0205 seconds\n",
      "max_features: 13, TPR (Sensitivity): 0.8423, Time Taken: 134.8080 seconds\n",
      "max_features: 16, TPR (Sensitivity): 0.8804, Time Taken: 158.8658 seconds\n",
      "max_features: 19, TPR (Sensitivity): 0.9099, Time Taken: 194.5126 seconds\n",
      "max_features: 22, TPR (Sensitivity): 0.9064, Time Taken: 222.5248 seconds\n",
      "max_features: 25, TPR (Sensitivity): 0.9237, Time Taken: 266.7548 seconds\n",
      "max_features: 28, TPR (Sensitivity): 0.9151, Time Taken: 2210.2689 seconds\n"
     ]
    },
    {
     "data": {
      "image/png": "[encoded data removed]",
      "text/plain": [
       "<Figure size 1400x600 with 1 Axes>"
      ]
     },
     "metadata": {},
     "output_type": "display_data"
    }
   ],
   "source": [
    "import matplotlib.pyplot as plt\n",
    "from sklearn.metrics import confusion_matrix\n",
    "\n",
    "# Here we can interpret this question in 2 manner like first what is the accuracy for the different value of m or\n",
    "# we can also interpret as like what is sensetivity (True positive rate) graph \n",
    "\n",
    "# Function to calculate True Positive Rate\n",
    "def true_positive_rate(y_true, y_pred):\n",
    "    cm = confusion_matrix(y_true, y_pred)\n",
    "    TP = cm[1, 1]  # True Positives (spam correctly identified)\n",
    "    FN = cm[1, 0]  # False Negatives (spam incorrectly labeled as non-spam)\n",
    "    TPR = TP / (TP + FN) if (TP + FN) > 0 else 0  # Calculate TPR\n",
    "    return TPR\n",
    "\n",
    "# Function to evaluate Random Forest sensitivity to max_features with TPR\n",
    "def evaluate_random_forest_sensitivity_with_tpr(max_features_values):\n",
    "    tpr_values = []\n",
    "    times_taken = []\n",
    "    \n",
    "    for m in max_features_values:\n",
    "        # For define graph we need to train and evalute random forest \n",
    "        start_time = time.time()\n",
    "        \n",
    "        custom_rf = RandomForest(n_estimators=50, max_depth=None, max_features=m)\n",
    "        custom_rf.fit(X_train, y_train)\n",
    "        custom_preds = custom_rf.predict(X_test)\n",
    "        \n",
    "        end_time = time.time()\n",
    "        time_taken = end_time - start_time\n",
    "        tpr = true_positive_rate(y_test, custom_preds)\n",
    "        \n",
    "        #Store the results\n",
    "        tpr_values.append(tpr)\n",
    "        times_taken.append(time_taken)\n",
    "        \n",
    "        print(f\"max_features: {m}|| TPR (Sensitivity): {tpr:.4f}|| Time Taken: {time_taken:.4f} seconds\")\n",
    "    \n",
    "    \n",
    "    plt.figure(figsize=(10, 5))\n",
    "\n",
    "    # Plot TPR vs. max_features\n",
    "    plt.subplot(1, 2, 1)\n",
    "    plt.plot(max_features_values, tpr_values, marker='o')\n",
    "    plt.xlabel('max_features (m)')\n",
    "    plt.ylabel('True Positive Rate (Sensitivity)')\n",
    "    plt.title('Effect of max_features on True Positive Rate')\n",
    "    \n",
    "    plt.tight_layout()\n",
    "    plt.show()\n",
    "\n",
    "\n",
    "# Define the range of max_features values to test # here i take value 1 to 30(step 3 difference )\n",
    "max_features_values = list(range(1, 31, 3))\n",
    "\n",
    "# Evaluate sensitivity to max_features using TPR\n",
    "evaluate_random_forest_sensitivity_with_tpr(max_features_values)\n"
   ]
  },
  {
   "cell_type": "markdown",
   "metadata": {},
   "source": [
    "    Question 5_c)Random Forests:"
   ]
  },
  {
   "cell_type": "code",
   "execution_count": 3,
   "metadata": {},
   "outputs": [
    {
     "name": "stdout",
     "output_type": "stream",
     "text": [
      "max_features: 1, OOB Error: 0.3199, Test Error: 0.4084\n",
      "max_features: 4, OOB Error: 0.2618, Test Error: 0.2187\n",
      "max_features: 7, OOB Error: 0.2193, Test Error: 0.1093\n",
      "max_features: 10, OOB Error: 0.1661, Test Error: 0.0775\n",
      "max_features: 13, OOB Error: 0.1795, Test Error: 0.0644\n",
      "max_features: 16, OOB Error: 0.1528, Test Error: 0.0565\n",
      "max_features: 19, OOB Error: 0.1500, Test Error: 0.0529\n",
      "max_features: 22, OOB Error: 0.1270, Test Error: 0.0456\n",
      "max_features: 25, OOB Error: 0.1301, Test Error: 0.0485\n",
      "max_features: 28, OOB Error: 0.1180, Test Error: 0.0449\n"
     ]
    },
    {
     "data": {
      "image/png": "[encoded data removed]",
      "text/plain": [
       "<Figure size 1000x500 with 1 Axes>"
      ]
     },
     "metadata": {},
     "output_type": "display_data"
    }
   ],
   "source": [
    "# Evaluate OOB error and test error against max_features\n",
    "def evaluate_oob_test_error(max_features_values):\n",
    "    oob_errors = []\n",
    "    test_errors = []\n",
    "\n",
    "    for m in max_features_values:\n",
    "        # Train and evaluate custom Random Forest\n",
    "        custom_rf = RandomForest(n_estimators=100, max_depth=None, max_features=m)\n",
    "        custom_rf.fit(X_train, y_train)\n",
    "        \n",
    "        # Calculate OOB error\n",
    "        oob_error = custom_rf.oob_error(y_train)\n",
    "        oob_errors.append(oob_error)\n",
    "\n",
    "        # Calculate test error\n",
    "        test_preds = custom_rf.predict(X_test)\n",
    "        test_error = 1 - accuracy_score(y_test, test_preds)\n",
    "        test_errors.append(test_error)\n",
    "\n",
    "        print(f\"max_features: {m}, OOB Error: {oob_error:.4f}, Test Error: {test_error:.4f}\")\n",
    "\n",
    "    # Plot OOB and test errors\n",
    "    plt.figure(figsize=(10, 5))\n",
    "    plt.plot(max_features_values, oob_errors, marker='o', label='OOB Error', color='blue')\n",
    "    plt.plot(max_features_values, test_errors, marker='o', label='Test Error', color='orange')\n",
    "    plt.xlabel('max_features (m)')\n",
    "    plt.ylabel('Error Rate')\n",
    "    plt.title('OOB Error and Test Error vs. max_features')\n",
    "    plt.legend()\n",
    "    plt.grid()\n",
    "    plt.show()\n",
    "\n",
    "# Define the range of max_features values to test (from 1 to 30 with a step of 3)\n",
    "max_features_values = list(range(1, 31, 3))\n",
    "\n",
    "# Evaluate OOB and test error\n",
    "evaluate_oob_test_error(max_features_values)\n"
   ]
  },
  {
   "cell_type": "markdown",
   "metadata": {},
   "source": [
    "    Question 6_a)Gradient Boosting:"
   ]
  },
  {
   "cell_type": "code",
   "execution_count": 2,
   "metadata": {},
   "outputs": [
    {
     "data": {
      "text/plain": [
       "111"
      ]
     },
     "execution_count": 2,
     "metadata": {},
     "output_type": "execute_result"
    }
   ],
   "source": [
    "import pandas as pd\n",
    "from sklearn.model_selection import train_test_split\n",
    "from sklearn.preprocessing import StandardScaler, OneHotEncoder\n",
    "from sklearn.impute import SimpleImputer\n",
    "from sklearn.compose import ColumnTransformer\n",
    "from sklearn.pipeline import Pipeline\n",
    "from sklearn.ensemble import GradientBoostingClassifier\n",
    "from sklearn.tree import DecisionTreeClassifier\n",
    "from sklearn.metrics import accuracy_score, precision_score, recall_score\n",
    "from sklearn.model_selection import GridSearchCV\n",
    "\n",
    "# Load the datasets\n",
    "train_df = pd.read_csv('loan_train.csv')\n",
    "test_df = pd.read_csv('loan_test.csv')\n",
    "\n",
    "# Filter relevant rows based on `loan_status` and map classes\n",
    "train_df = train_df[train_df['loan_status'].isin(['Fully Paid', 'Charged Off'])]\n",
    "train_df['loan_status'] = train_df['loan_status'].map({'Fully Paid': 1, 'Charged Off': -1})\n",
    "\n",
    "test_df = test_df[test_df['loan_status'].isin(['Fully Paid', 'Charged Off'])]\n",
    "test_df['loan_status'] = test_df['loan_status'].map({'Fully Paid': 1, 'Charged Off': -1})\n",
    "len(train_df.columns.values) # As we know from the data that total number of features is 111"
   ]
  },
  {
   "cell_type": "markdown",
   "metadata": {},
   "source": [
    "* As we know from the data that total number of features is 111"
   ]
  },
  {
   "cell_type": "code",
   "execution_count": 3,
   "metadata": {},
   "outputs": [
    {
     "data": {
      "text/plain": [
       "55"
      ]
     },
     "execution_count": 3,
     "metadata": {},
     "output_type": "execute_result"
    }
   ],
   "source": [
    "# Drop columns with more than 80% missing values\n",
    "missing_threshold = 0.8 * len(train_df)\n",
    "cols_to_drop = [col for col in train_df.columns if train_df[col].isnull().sum() > missing_threshold]\n",
    "train_df = train_df.drop(columns=cols_to_drop)\n",
    "test_df = test_df.drop(columns=cols_to_drop)\n",
    "len(train_df.columns.values) # Here If a column has more than 80% of its values missing, it will be dropped.\n",
    "#Almost 56 columns have 80% of the null values. "
   ]
  },
  {
   "cell_type": "markdown",
   "metadata": {},
   "source": [
    "* Here If a column has more than 80% of its values missing, it will be dropped.\n",
    "* Almost 56 columns have 80% of the null values. "
   ]
  },
  {
   "cell_type": "code",
   "execution_count": 4,
   "metadata": {},
   "outputs": [
    {
     "name": "stdout",
     "output_type": "stream",
     "text": [
      "Total number of Categorical columns: 22\n",
      "Total number of Numerical columns: 33\n",
      "Numerical columns after removing loan_status: 32\n"
     ]
    }
   ],
   "source": [
    "# Separate categorical and numerical columns\n",
    "categorical_cols = train_df.select_dtypes(include=['object']).columns.tolist()\n",
    "print(\"Total number of Categorical columns:\",len(categorical_cols))\n",
    "numerical_cols = train_df.select_dtypes(include=['float64', 'int64']).columns.tolist()\n",
    "print(\"Total number of Numerical columns:\",len(numerical_cols))\n",
    "numerical_cols.remove('loan_status') #Here we remove the loan status columns from the data because it represent target value.\n",
    "print(\"Numerical columns after removing loan_status:\",len(numerical_cols))"
   ]
  },
  {
   "cell_type": "code",
   "execution_count": 5,
   "metadata": {},
   "outputs": [],
   "source": [
    "# Define preprocessing steps\n",
    "preprocessor = ColumnTransformer(\n",
    "    transformers=[\n",
    "        ('num', Pipeline(steps=[\n",
    "            ('imputer', SimpleImputer(strategy='median')),# Missing values in numerical columns were filled using the median of each column. \n",
    "            ('scaler', StandardScaler()) # The numerical columns were standardized using StandardScaler.\n",
    "        ]), numerical_cols),\n",
    "        ('cat', Pipeline(steps=[\n",
    "            ('imputer', SimpleImputer(strategy='most_frequent')),#Missing values in categorical columns were filled using the most fre-quent category in each column.\n",
    "            ('onehot', OneHotEncoder(handle_unknown='ignore'))# Categorical variables were encoded using OneHotEncoder, which created binary columns for each unique category. \n",
    "        ]), categorical_cols)\n",
    "    ])\n",
    "\n",
    "# Transform the data\n",
    "X_train = train_df.drop(columns='loan_status')\n",
    "y_train = train_df['loan_status']\n",
    "X_test = test_df.drop(columns='loan_status')\n",
    "y_test = test_df['loan_status']\n",
    "\n",
    "X_train_transformed = preprocessor.fit_transform(X_train) \n",
    "X_test_transformed = preprocessor.transform(X_test)\n"
   ]
  },
  {
   "cell_type": "code",
   "execution_count": 6,
   "metadata": {},
   "outputs": [
    {
     "data": {
      "text/plain": [
       "54"
      ]
     },
     "execution_count": 6,
     "metadata": {},
     "output_type": "execute_result"
    }
   ],
   "source": [
    "len(X_train.columns)# Because here we remove one columns loan_status \n",
    "# After removing columns with too many missing values, we have 54 features left. \n",
    "# This number works well for the data and doesn’t cause overfitting, so it’s a good choice to keep them all.\n",
    "# Also we can further more features also."
   ]
  },
  {
   "cell_type": "markdown",
   "metadata": {},
   "source": [
    "* After removing columns with too many missing values, we have 54 features left. \n",
    "* This number works well for the data and doesn’t cause overfitting, so it’s a good choice to keep them all.\n",
    "* Also we can further more features also."
   ]
  },
  {
   "cell_type": "markdown",
   "metadata": {},
   "source": [
    "    Question 6_b)Gradient Boosting:"
   ]
  },
  {
   "cell_type": "code",
   "execution_count": 8,
   "metadata": {},
   "outputs": [
    {
     "name": "stdout",
     "output_type": "stream",
     "text": [
      "Performing Gradient Boosting Classifier...\n"
     ]
    },
    {
     "name": "stdout",
     "output_type": "stream",
     "text": [
      "\n",
      "Gradient Boosting Results:\n",
      "   n_estimators  accuracy  precision  recall\n",
      "0           150  0.989342   0.988422     1.0\n",
      "1           200  0.989383   0.988422     1.0\n",
      "2           300  0.989753   0.988422     1.0\n",
      "3           400  0.990000   0.988422     1.0\n",
      "4           600  0.990494   0.988422     1.0\n",
      "5           800  0.990618   0.988422     1.0\n",
      "6          1000  0.990741   0.988422     1.0\n",
      "__________________________________________________\n",
      "\n",
      "Best Gradient Boosting Model:\n",
      "n_estimators    1000.000000\n",
      "accuracy           0.990741\n",
      "precision          0.988422\n",
      "recall             1.000000\n",
      "Name: 6, dtype: float64\n",
      "__________________________________________________\n",
      "\n",
      "Training Decision Tree Classifier...\n",
      "\n",
      "Decision Tree Performance:\n",
      "Accuracy: 0.990544\n",
      "Precision: 0.990427\n",
      "Recall: 0.998515\n"
     ]
    }
   ],
   "source": [
    "import warnings\n",
    "\n",
    "# Ignore only UserWarnings\n",
    "warnings.filterwarnings(\"ignore\", category=UserWarning)\n",
    "\n",
    "\n",
    "# Parameter grid for Gradient Boosting (reduced for faster testing)\n",
    "param_grid = {\n",
    "    'n_estimators': [150, 200, 300, 400, 600, 800, 1000],  # Reduced for quicker testing\n",
    "    'learning_rate': [0.1],\n",
    "    'max_depth': [3]\n",
    "}\n",
    "\n",
    "# Gradient Boosting Classifier with Grid Search\n",
    "print(\"Performing Gradient Boosting Classifier...\")\n",
    "gb_classifier = GradientBoostingClassifier(random_state=42)\n",
    "grid_search = GridSearchCV(gb_classifier, param_grid, scoring='accuracy', cv=3, n_jobs=-1, verbose=0)\n",
    "\n",
    "# Fit the model to the training data\n",
    "grid_search.fit(X_train_transformed, y_train)\n",
    "\n",
    "# Capture the results of Gradient Boosting Grid Search\n",
    "results = []\n",
    "for params, mean_score in zip(grid_search.cv_results_['params'], grid_search.cv_results_['mean_test_score']):\n",
    "    n_estimators = params['n_estimators']\n",
    "    # Fit the best estimator with the current n_estimators\n",
    "    y_test_pred_gb = grid_search.best_estimator_.set_params(n_estimators=n_estimators).predict(X_test_transformed)\n",
    "    precision = precision_score(y_test, y_test_pred_gb, pos_label=1)\n",
    "    recall = recall_score(y_test, y_test_pred_gb, pos_label=1)\n",
    "    results.append([n_estimators, mean_score, precision, recall])\n",
    "\n",
    "# Create DataFrame for Gradient Boosting results\n",
    "gb_results_df = pd.DataFrame(results, columns=['n_estimators', 'accuracy', 'precision', 'recall'])\n",
    "print(\"\\nGradient Boosting Results:\")\n",
    "print(gb_results_df)\n",
    "\n",
    "# Get the Best Gradient Boosting Model\n",
    "best_gb_model = grid_search.best_estimator_\n",
    "best_gb_index = grid_search.best_index_\n",
    "\n",
    "# Display Best Gradient Boosting Model Results\n",
    "print(\"__________________________________________________\")\n",
    "print(\"\\nBest Gradient Boosting Model:\")\n",
    "print(gb_results_df.iloc[best_gb_index])\n",
    "print(\"__________________________________________________\")\n",
    "\n",
    "# Evaluate Decision Tree Classifier for Comparison\n",
    "print(\"\\nTraining Decision Tree Classifier...\")\n",
    "dt_classifier = DecisionTreeClassifier(random_state=42)\n",
    "dt_classifier.fit(X_train_transformed, y_train)\n",
    "\n",
    "# Predictions for Decision Tree\n",
    "y_test_pred_dt = dt_classifier.predict(X_test_transformed)\n",
    "\n",
    "# Decision Tree Performance on Testing Data\n",
    "dt_accuracy = accuracy_score(y_test, y_test_pred_dt)\n",
    "dt_precision = precision_score(y_test, y_test_pred_dt, pos_label=1)\n",
    "dt_recall = recall_score(y_test, y_test_pred_dt, pos_label=1)\n",
    "\n",
    "# Display Decision Tree Results\n",
    "print(\"\\nDecision Tree Performance:\")\n",
    "print(f\"Accuracy: {dt_accuracy:.6f}\")\n",
    "print(f\"Precision: {dt_precision:.6f}\")\n",
    "print(f\"Recall: {dt_recall:.6f}\")\n"
   ]
  }
 ],
 "metadata": {
  "kernelspec": {
   "display_name": "Python 3",
   "language": "python",
   "name": "python3"
  },
  "language_info": {
   "codemirror_mode": {
    "name": "ipython",
    "version": 3
   },
   "file_extension": ".py",
   "mimetype": "text/x-python",
   "name": "python",
   "nbconvert_exporter": "python",
   "pygments_lexer": "ipython3",
   "version": "3.12.7"
  }
 },
 "nbformat": 4,
 "nbformat_minor": 2
}
